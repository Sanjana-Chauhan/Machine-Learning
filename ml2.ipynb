{
 "cells": [
  {
   "cell_type": "markdown",
   "metadata": {},
   "source": [
    "### Importance of Data preprocessing\n",
    "\n",
    "Data preprocessing is the essential step of cleaning and transforming raw data into a format suitable for machine learning models.\n",
    "\n",
    "🔹 1. Handling Missing Data\n",
    "Methods:\n",
    "Remove missing values (dropna())\n",
    "Replace with mean/median/mode (fillna())\n",
    "Use predictive models (KNN imputation)  \n",
    "🔹 2. Encoding Categorical Data\n",
    "One-Hot Encoding → Converts categorical values into binary columns\n",
    "Label Encoding → Assigns numerical values to categories\n",
    "Ordinal Encoding → Used for ordered categories  \n",
    "🔹 3. Feature Scaling\n",
    "Standardization (Z-score normalization) → (X - mean) / std_dev\n",
    "Min-Max Scaling → (X - min) / (max - min), scales values between 0 and 1\n",
    "Robust Scaling → Uses median and IQR, useful for outliers  \n",
    "🔹 4. Splitting the Dataset (Avoiding Data Leakage)\n",
    "python\n",
    "Copy\n",
    "Edit\n",
    "from sklearn.model_selection import train_test_split\n",
    "X_train, X_test, y_train, y_test = train_test_split(X, y, test_size=0.2, random_state=42)\n",
    "Training Set → Used to train the model\n",
    "Testing Set → Used to evaluate model performance   \n",
    "🔹 5. Avoiding Data Leakage\n",
    "Feature Leakage → Ensure future data isn’t used in training\n",
    "Target Leakage → Prevent direct correlation between input and target\n",
    "Preprocessing Leakage → Always split the data before applying transformations\n"
   ]
  }
 ],
 "metadata": {
  "kernelspec": {
   "display_name": "Python 3",
   "language": "python",
   "name": "python3"
  },
  "language_info": {
   "codemirror_mode": {
    "name": "ipython",
    "version": 3
   },
   "file_extension": ".py",
   "mimetype": "text/x-python",
   "name": "python",
   "nbconvert_exporter": "python",
   "pygments_lexer": "ipython3",
   "version": "3.10.0"
  }
 },
 "nbformat": 4,
 "nbformat_minor": 2
}
