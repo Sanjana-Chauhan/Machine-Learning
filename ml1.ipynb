{
 "cells": [
  {
   "cell_type": "markdown",
   "metadata": {},
   "source": [
    "### Introduction to machine learning"
   ]
  },
  {
   "cell_type": "markdown",
   "metadata": {},
   "source": [
    "Machine learning is a field of study that enable machine to predict or analyze somthing without eriting actual program.\n",
    "\n",
    "Types of learning:\n",
    "Supervised-> works on labelled data ---> classification and detection  \n",
    "Unsupervised -> works on unlabeled data--> clustering or regression    \n",
    "REinforcement learning--> learns from the past by receiving bonus and penalties for the decisions and predictions.\n"
   ]
  },
  {
   "cell_type": "markdown",
   "metadata": {},
   "source": [
    "### Working of Machine learning model:  \n",
    "Data collection  \n",
    "Data Preprocessing   (Most important)  \n",
    "Model detection  \n",
    "Training the model   \n",
    "Model Evaluation  \n",
    "Model Deployment  \n"
   ]
  },
  {
   "cell_type": "markdown",
   "metadata": {},
   "source": [
    "### Real life Examples\n",
    "1. Spam Email Detection\n",
    "✅ Type: Supervised Learning (Classification)\n",
    "How it works: Algorithms like Naive Bayes or Logistic Regression classify emails as spam or not spam based on labeled data.    \n",
    "\n",
    "🛍️ 2. Product Recommendation Systems\n",
    "✅ Type: Unsupervised Learning (Clustering/Association) or Reinforcement Learning\n",
    "How it works: Models analyze user behavior and purchase history to recommend similar products.\n",
    " \n",
    "🚗 3. Autonomous Vehicles (Self-Driving Cars)\n",
    "✅ Type: Reinforcement Learning + Computer Vision\n",
    "How it works: Self-driving cars use deep learning to detect objects, identify lanes, and make decisions based on sensor data.   \n",
    "  \n",
    "🏥 4. Medical Diagnosis and Imaging\n",
    "✅ Type: Supervised Learning (Classification/Regression)\n",
    "How it works: ML models are trained on medical imaging data (like X-rays, CT scans) to detect diseases.\n",
    "\n",
    "🗣️ 5. Virtual Assistants (NLP)\n",
    "✅ Type: Natural Language Processing (NLP) + Reinforcement Learning\n",
    "How it works: Virtual assistants like Alexa, Siri, and Google Assistant understand and respond to natural language queries.\n",
    " \n",
    "📸 6. Facial Recognition Systems\n",
    "✅ Type: Supervised Learning (Classification/Recognition)\n",
    "How it works: Face recognition models identify individuals by analyzing facial features and matching them to stored profiles.\n",
    "  \n",
    "🏦 7. Credit Card Fraud Detection\n",
    "✅ Type: Supervised Learning (Classification/Anomaly Detection)\n",
    "How it works: ML models identify fraudulent transactions by recognizing abnormal patterns in credit card usage.\n",
    "💳 Example: Banks use anomaly detection to flag suspicious transactions and prevent fraud.\n",
    "\n",
    "\n",
    "🎥 8. Deepfake Detection\n",
    "✅ Type: Computer Vision + Deep Learning\n",
    "How it works: Models analyze video frames and detect inconsistencies to identify deepfake content.\n",
    "🎭 Example: AI-based deepfake detection tools used by social media platforms.\n",
    "\n",
    "📊 9. Stock Price Prediction\n",
    "✅ Type: Time Series Analysis (Supervised/Unsupervised)\n",
    "How it works: Models analyze historical stock price data to predict future trends.\n",
    "📈 Example: Hedge funds and trading firms use ML models for algorithmic trading.\n",
    "\n",
    "📚 10. Language Translation\n",
    "✅ Type: NLP + Sequence-to-Sequence Models\n",
    "How it works: Models like Google Translate use neural networks to translate text between languages.\n",
    "🌐 Example: Google’s Transformer-based models power real-time language translation.\n",
    "\n",
    "\n",
    "🎮 11. Game AI (Playing Games like Chess/Go)\n",
    "✅ Type: Reinforcement Learning\n",
    "How it works: Models learn optimal strategies by playing millions of games and improving through trial and error.\n",
    "♟️ Example: AlphaGo by DeepMind defeated world champions in the game of Go.\n",
    "\n",
    "🎤 12. Sentiment Analysis on Social Media\n",
    "✅ Type: Supervised Learning + NLP\n",
    "How it works: Analyzes user comments, tweets, and reviews to determine sentiment (positive, negative, neutral).\n",
    "📝 Example: Brands monitor customer feedback and sentiment on Twitter and Facebook.\n",
    "\n",
    "📡 13. Internet of Things (IoT) Predictive Maintenance\n",
    "✅ Type: Unsupervised Learning + Time Series Analysis\n",
    "How it works: IoT sensors collect equipment data, and ML predicts potential failures to reduce downtime.\n",
    "⚙️ Example: Predictive maintenance in manufacturing and industrial sectors.\n",
    "\n",
    "📞 14. Chatbots for Customer Support\n",
    "✅ Type: NLP + Reinforcement Learning\n",
    "How it works: Chatbots understand and respond to customer queries in real-time.\n",
    "🤖 Example: Chatbots on websites like Zomato, Swiggy, and e-commerce platforms.\n",
    "\n",
    "📹 15. Video Surveillance and Threat Detection\n",
    "✅ Type: Computer Vision + Anomaly Detection\n",
    "How it works: ML models monitor video feeds to detect suspicious activities or unauthorized access.\n",
    "🔍 Example: Security cameras in public places use AI for real-time threat detection."
   ]
  }
 ],
 "metadata": {
  "language_info": {
   "name": "python"
  }
 },
 "nbformat": 4,
 "nbformat_minor": 2
}
